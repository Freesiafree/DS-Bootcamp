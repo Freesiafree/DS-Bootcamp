{
 "cells": [
  {
   "cell_type": "markdown",
   "metadata": {},
   "source": [
    "## Week1 Homework\n",
    "\n",
    "### Freesia Xu"
   ]
  },
  {
   "cell_type": "markdown",
   "metadata": {},
   "source": [
    "### 1. Display Fibonacci Series upto 10 terms"
   ]
  },
  {
   "cell_type": "code",
   "execution_count": 58,
   "metadata": {},
   "outputs": [
    {
     "name": "stdout",
     "output_type": "stream",
     "text": [
      "0 1 1 2 3 5 8 13 21 34 \n"
     ]
    }
   ],
   "source": [
    "n = 10\n",
    "num1 = 0\n",
    "num2 = 1\n",
    "count = 1\n",
    "while count <= n:\n",
    "    print(num1, end=\" \")\n",
    "    num_follow = num1 + num2\n",
    "    num1, num2 = num2, num_follow\n",
    "    count += 1\n",
    "print()\n"
   ]
  },
  {
   "cell_type": "markdown",
   "metadata": {},
   "source": [
    "### 2. Display numbers at the odd indices of a list"
   ]
  },
  {
   "cell_type": "code",
   "execution_count": 59,
   "metadata": {},
   "outputs": [
    {
     "name": "stdout",
     "output_type": "stream",
     "text": [
      "[0, 1, 3, 8, 21]\n"
     ]
    }
   ],
   "source": [
    "def odd_indices(lst):\n",
    "  new_lst = []\n",
    "  for index in range(0, len(lst), 2):\n",
    "    new_lst.append(lst[index])\n",
    "  return new_lst\n",
    "\n",
    "list1 = [0,1,1,2,3,5,8,13,21,34]\n",
    "print(odd_indices(list1))"
   ]
  },
  {
   "cell_type": "markdown",
   "metadata": {},
   "source": [
    "### 3. Print a list in reverse order"
   ]
  },
  {
   "cell_type": "code",
   "execution_count": 60,
   "metadata": {},
   "outputs": [
    {
     "name": "stdout",
     "output_type": "stream",
     "text": [
      "[34, 21, 13, 8, 5, 3, 2, 1, 1, 0]\n"
     ]
    }
   ],
   "source": [
    "def reverse_lst(lst):\n",
    "    new_lst = []\n",
    "    l = len(lst) - 1\n",
    "    while l >= 0:\n",
    "        new_lst.append(lst[l])\n",
    "        l -= 1\n",
    "    return new_lst\n",
    "\n",
    "list1 = [0,1,1,2,3,5,8,13,21,34]\n",
    "print(reverse_lst(list1))"
   ]
  },
  {
   "cell_type": "markdown",
   "metadata": {},
   "source": [
    "### 4. count the number of different words"
   ]
  },
  {
   "cell_type": "code",
   "execution_count": 61,
   "metadata": {},
   "outputs": [
    {
     "data": {
      "text/plain": [
       "47"
      ]
     },
     "execution_count": 61,
     "metadata": {},
     "output_type": "execute_result"
    }
   ],
   "source": [
    "string = \"\"\"\n",
    "\tChatGPT has created this text to provide tips on creating interesting paragraphs. \n",
    "\tFirst, start with a clear topic sentence that introduces the main idea. \n",
    "\tThen, support the topic sentence with specific details, examples, and evidence.\n",
    "\tVary the sentence length and structure to keep the reader engaged.\n",
    "\tFinally, end with a strong concluding sentence that summarizes the main points.\n",
    "\tRemember, practice makes perfect!\n",
    "\t\"\"\"\n",
    "def count_Uniwords(str):\n",
    "    txt_split = str.split()\n",
    "    txt_new = []\n",
    "    n = 0\n",
    "    while n < len(txt_split):\n",
    "        if txt_split[n] not in txt_new:\n",
    "            txt_new.append(txt_split[n])\n",
    "            n+=1\n",
    "        else:\n",
    "            n+=1\n",
    "    return len(txt_new)\n",
    "count_Uniwords(string)"
   ]
  },
  {
   "cell_type": "markdown",
   "metadata": {},
   "source": [
    "### 5. Write a function that takes a word as an argument and returns the number of vowels in the word"
   ]
  },
  {
   "cell_type": "code",
   "execution_count": 62,
   "metadata": {},
   "outputs": [
    {
     "name": "stdout",
     "output_type": "stream",
     "text": [
      "2\n"
     ]
    }
   ],
   "source": [
    "word = 'Apple'\n",
    "def vowel_word(word):\n",
    "    vowels = \"aeiouAEIOU\"\n",
    "    count = sum(word.count(vowel) for vowel in vowels)\n",
    "    return count\n",
    "\n",
    "print(vowel_word(word))"
   ]
  },
  {
   "cell_type": "markdown",
   "metadata": {},
   "source": [
    "### 6. Iterate through the following list of animals and print each one in all caps.\n",
    "\n",
    "  animals=['tiger', 'elephant', 'monkey', 'zebra', 'panther']"
   ]
  },
  {
   "cell_type": "code",
   "execution_count": 63,
   "metadata": {},
   "outputs": [
    {
     "name": "stdout",
     "output_type": "stream",
     "text": [
      "TIGER\n",
      "ELEPHANT\n",
      "MONKEY\n",
      "ZEBRA\n",
      "PANTHER\n"
     ]
    }
   ],
   "source": [
    "animals=['tiger', 'elephant', 'monkey', 'zebra', 'panther']\n",
    "for i in animals:\n",
    "    print(i.upper())\n"
   ]
  },
  {
   "cell_type": "markdown",
   "metadata": {},
   "source": [
    "### 7. Iterate from 1 to 15, printing whether the number is odd or even"
   ]
  },
  {
   "cell_type": "code",
   "execution_count": 64,
   "metadata": {},
   "outputs": [
    {
     "name": "stdout",
     "output_type": "stream",
     "text": [
      "1 False\n",
      "2 True\n",
      "3 False\n",
      "4 True\n",
      "5 False\n",
      "6 True\n",
      "7 False\n",
      "8 True\n",
      "9 False\n",
      "10 True\n",
      "11 False\n",
      "12 True\n",
      "13 False\n",
      "14 True\n",
      "15 False\n"
     ]
    }
   ],
   "source": [
    "for i in range(1,16):\n",
    "    print(i,i%2==0)"
   ]
  },
  {
   "cell_type": "markdown",
   "metadata": {},
   "source": [
    "### 8. Take two integers as input from user and return the sum"
   ]
  },
  {
   "cell_type": "code",
   "execution_count": 65,
   "metadata": {},
   "outputs": [
    {
     "name": "stdout",
     "output_type": "stream",
     "text": [
      "3\n"
     ]
    }
   ],
   "source": [
    "a = 1\n",
    "b = 2\n",
    "w = []\n",
    "w.append(a)\n",
    "w.append(b)\n",
    "print(sum(w))"
   ]
  }
 ],
 "metadata": {
  "kernelspec": {
   "display_name": "Python 3",
   "language": "python",
   "name": "python3"
  },
  "language_info": {
   "codemirror_mode": {
    "name": "ipython",
    "version": 3
   },
   "file_extension": ".py",
   "mimetype": "text/x-python",
   "name": "python",
   "nbconvert_exporter": "python",
   "pygments_lexer": "ipython3",
   "version": "3.11.1"
  },
  "orig_nbformat": 4
 },
 "nbformat": 4,
 "nbformat_minor": 2
}
