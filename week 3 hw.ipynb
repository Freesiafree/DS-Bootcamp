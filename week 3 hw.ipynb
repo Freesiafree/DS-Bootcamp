{
 "cells": [
  {
   "cell_type": "markdown",
   "metadata": {},
   "source": [
    "## Week3 Homework\n",
    "\n",
    "### Freesia Xu"
   ]
  },
  {
   "cell_type": "code",
   "execution_count": 28,
   "metadata": {},
   "outputs": [],
   "source": [
    "import numpy as np\n",
    "import pandas as pd"
   ]
  },
  {
   "cell_type": "markdown",
   "metadata": {},
   "source": [
    "### Numpy Practice Questions"
   ]
  },
  {
   "cell_type": "markdown",
   "metadata": {},
   "source": [
    "#### 1. Define two custom numpy arrays, say A and B. Generate two new numpy arrays by stacking A and B vertically and horizontally."
   ]
  },
  {
   "cell_type": "code",
   "execution_count": 23,
   "metadata": {},
   "outputs": [
    {
     "name": "stdout",
     "output_type": "stream",
     "text": [
      "[1 3 9 8 9 8]\n",
      "[2 4 5 4 1 7]\n",
      "[[1 3 9 8 9 8]\n",
      " [2 4 5 4 1 7]]\n",
      "[1 3 9 8 9 8 2 4 5 4 1 7]\n"
     ]
    }
   ],
   "source": [
    "np.random.seed(99)\n",
    "A = np.random.randint(10, size=6)\n",
    "B = np.random.randint(10, size=6)\n",
    "print(A)\n",
    "print(B)\n",
    "Vertical = np.vstack([A, B])\n",
    "print(Vertical)\n",
    "Hori = np.hstack([A, B])\n",
    "print(Hori)\n",
    "\n"
   ]
  },
  {
   "cell_type": "markdown",
   "metadata": {},
   "source": [
    "#### 2. Find common elements between A and B. [Hint : Intersection of two sets]"
   ]
  },
  {
   "cell_type": "code",
   "execution_count": 24,
   "metadata": {},
   "outputs": [
    {
     "data": {
      "text/plain": [
       "[1]"
      ]
     },
     "execution_count": 24,
     "metadata": {},
     "output_type": "execute_result"
    }
   ],
   "source": [
    "def intersect_array(X,Y):\n",
    "    intersect = []\n",
    "    for i in range(0,len(X)):\n",
    "        if X[i] in Y:\n",
    "            intersect.append(X[i])\n",
    "        else:\n",
    "            pass\n",
    "    return intersect\n",
    "\n",
    "intersect_array(A,B)"
   ]
  },
  {
   "cell_type": "markdown",
   "metadata": {},
   "source": [
    "### Pandas Practice Questions"
   ]
  },
  {
   "cell_type": "markdown",
   "metadata": {},
   "source": [
    "#### 1. From df filter the 'Manufacturer', 'Model' and 'Type' for every 20th row starting from 1st (row 0)."
   ]
  },
  {
   "cell_type": "code",
   "execution_count": null,
   "metadata": {},
   "outputs": [],
   "source": [
    "url = 'https://raw.githubusercontent.com/selva86/datasets/master/Cars93_miss.csv'\n",
    "\n",
    "df = pd.read_csv(url, sep='\\t')\n",
    "\n"
   ]
  }
 ],
 "metadata": {
  "kernelspec": {
   "display_name": "Python 3",
   "language": "python",
   "name": "python3"
  },
  "language_info": {
   "codemirror_mode": {
    "name": "ipython",
    "version": 3
   },
   "file_extension": ".py",
   "mimetype": "text/x-python",
   "name": "python",
   "nbconvert_exporter": "python",
   "pygments_lexer": "ipython3",
   "version": "3.11.1"
  },
  "orig_nbformat": 4
 },
 "nbformat": 4,
 "nbformat_minor": 2
}
